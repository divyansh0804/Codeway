{
  "nbformat": 4,
  "nbformat_minor": 0,
  "metadata": {
    "colab": {
      "provenance": [],
      "authorship_tag": "ABX9TyPpMJ5F+3dgURo8H/wzdCLS",
      "include_colab_link": true
    },
    "kernelspec": {
      "name": "python3",
      "display_name": "Python 3"
    },
    "language_info": {
      "name": "python"
    }
  },
  "cells": [
    {
      "cell_type": "markdown",
      "metadata": {
        "id": "view-in-github",
        "colab_type": "text"
      },
      "source": [
        "<a href=\"https://colab.research.google.com/github/divyansh0804/Codeway/blob/main/Task2_Calculator.ipynb\" target=\"_parent\"><img src=\"https://colab.research.google.com/assets/colab-badge.svg\" alt=\"Open In Colab\"/></a>"
      ]
    },
    {
      "cell_type": "code",
      "execution_count": null,
      "metadata": {
        "id": "vNijM1PkIokR"
      },
      "outputs": [],
      "source": [
        "#@title Calculator\n",
        "#Caution: Don't make any changes in this section.\n",
        "import numpy as np\n",
        "import math\n",
        "def Calculator():\n",
        "  while True:\n",
        "    user_input=input(\"Enter 1 for Addition,2 for Substraction,3 for Multiplication,4 for Division,5 for square,6 for Square Root,7 for nCr,8 for nPr,9 to exit:\")\n",
        "    Valid_entries=[\"1\",\"2\",\"3\",\"4\",\"5\",\"6\",\"7\",\"8\",\"9\"]\n",
        "    while user_input not in Valid_entries:\n",
        "      print(\"Invalid Input!\")\n",
        "      user_input=input(\"Please Enter 1 for Addition,2 for Substraction,3 for Multiplication,4 for Division,5 for square,6 for Square Root,7 for nCr,8 for nPr:\")\n",
        "    while user_input in Valid_entries:\n",
        "      user_input=int(user_input)\n",
        "      if user_input==1:\n",
        "        num1=int(input(\"Enter 1st Value:\"))\n",
        "        num2=int(input(\"Enter 2nd value:\"))\n",
        "        print(num1+num2)\n",
        "      elif user_input==2:\n",
        "        num1=int(input(\"Enter 1st Value:\"))\n",
        "        num2=int(input(\"Enter 2nd value:\"))\n",
        "        print(num1-num2)\n",
        "      elif user_input==3:\n",
        "        num1=int(input(\"Enter 1st Value:\"))\n",
        "        num2=int(input(\"Enter 2nd value:\"))\n",
        "        print(num1*num2)\n",
        "      elif user_input==4:\n",
        "        num1=int(input(\"Enter 1st Value:\"))\n",
        "        num2=int(input(\"Enter 2nd value:\"))\n",
        "        print(num1/num2)\n",
        "      elif user_input==5:\n",
        "        num1=int(input(\"Enter Value whose Square you want:\"))\n",
        "        print(num1**2)\n",
        "      elif user_input==6:\n",
        "        num1=int(input(\"Enter Value whose Square Root you want:\"))\n",
        "        print(np.sqrt(num1))\n",
        "      elif user_input==7:\n",
        "        n=int(input(\"Enter Value of n:\"))\n",
        "        r=int(input(\"Enter Value of r:\"))\n",
        "        x=math.factorial(n)\n",
        "        y=math.factorial(r)\n",
        "        z=math.factorial(n-r)\n",
        "        print(x/(y*z))\n",
        "      elif user_input==8:\n",
        "        n=int(input(\"Enter Value of n:\"))\n",
        "        r=int(input(\"Enter Value of r:\"))\n",
        "        x=math.factorial(n)\n",
        "        y=math.factorial(n-r)\n",
        "        print(x/y)\n",
        "    if user_input==9:\n",
        "      break"
      ]
    },
    {
      "cell_type": "code",
      "source": [
        "Calculator()"
      ],
      "metadata": {
        "colab": {
          "base_uri": "https://localhost:8080/"
        },
        "id": "2_RgLlN3I2kp",
        "outputId": "0b1b8cc3-6e1a-470d-d4bd-6513513c9285"
      },
      "execution_count": null,
      "outputs": [
        {
          "name": "stdout",
          "output_type": "stream",
          "text": [
            "Enter 1 for Addition,2 for Substraction,3 for Multiplication,4 for Division,5 for square,6 for Square Root,7 for nCr,8 for nPr,9 to exit:3\n",
            "Enter 1st Value:6\n",
            "Enter 2nd value:4\n",
            "24\n",
            "Enter 1 for Addition,2 for Substraction,3 for Multiplication,4 for Division,5 for square,6 for Square Root,7 for nCr,8 for nPr,9 to exit:8\n",
            "Enter Value of n:9\n",
            "Enter Value of r:3\n",
            "504.0\n",
            "Enter 1 for Addition,2 for Substraction,3 for Multiplication,4 for Division,5 for square,6 for Square Root,7 for nCr,8 for nPr,9 to exit:9\n"
          ]
        }
      ]
    }
  ]
}